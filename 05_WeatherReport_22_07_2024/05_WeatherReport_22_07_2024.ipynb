{
  "nbformat": 4,
  "nbformat_minor": 0,
  "metadata": {
    "colab": {
      "provenance": [],
      "authorship_tag": "ABX9TyNy+fKLcaolsMYcQ9evMle8",
      "include_colab_link": true
    },
    "kernelspec": {
      "name": "python3",
      "display_name": "Python 3"
    },
    "language_info": {
      "name": "python"
    }
  },
  "cells": [
    {
      "cell_type": "markdown",
      "metadata": {
        "id": "view-in-github",
        "colab_type": "text"
      },
      "source": [
        "<a href=\"https://colab.research.google.com/github/AMOGH-DS02/FundamentalsOfDataScience_AMOGH-PARWATKAR/blob/main/05_WeatherReport_22_07_2024/05_WeatherReport_22_07_2024.ipynb\" target=\"_parent\"><img src=\"https://colab.research.google.com/assets/colab-badge.svg\" alt=\"Open In Colab\"/></a>"
      ]
    },
    {
      "cell_type": "code",
      "execution_count": null,
      "metadata": {
        "colab": {
          "base_uri": "https://localhost:8080/"
        },
        "id": "ttayIWXfVAnP",
        "outputId": "a4ec2a3b-459d-4f39-8eee-a1ebdf9f9109"
      },
      "outputs": [
        {
          "output_type": "stream",
          "name": "stdout",
          "text": [
            "Drive already mounted at /content/drive; to attempt to forcibly remount, call drive.mount(\"/content/drive\", force_remount=True).\n"
          ]
        }
      ],
      "source": [
        "from google.colab import drive\n",
        "\n",
        "# Mount Google Drive\n",
        "drive.mount('/content/drive')"
      ]
    },
    {
      "cell_type": "code",
      "source": [
        "file_ = '/content/drive/MyDrive/FundamentalsofDataScience/datasets/temp.csv'"
      ],
      "metadata": {
        "id": "kaPyb1NjW-Iz"
      },
      "execution_count": null,
      "outputs": []
    },
    {
      "cell_type": "code",
      "source": [
        "def readcsv(files):\n",
        "    formatted_data = []\n",
        "    with open(file_, 'r') as file:\n",
        "        lines = file.read().strip().split('\\n')\n",
        "    for line in lines[1:]:  # Skip header\n",
        "        if line.strip():\n",
        "            date_str, temp_str, wind_str = line.split(',')\n",
        "            day, month, year = date_str.split('/')\n",
        "            formatted_date = f\"{day}/{month}/{year}\"\n",
        "            try:\n",
        "                temperature = float(temp_str)\n",
        "                wind_speed = int(wind_str)\n",
        "                formatted_data.append((formatted_date, temperature, wind_speed))\n",
        "            except ValueError:\n",
        "                print(f\"Warning: Skipping malformed line: {line}\")\n",
        "\n",
        "    return formatted_data\n",
        "\n",
        "def avgofmonth(data, month):\n",
        "    total_temp = 0\n",
        "    count = 0\n",
        "    for date, temp, windspeed in data:\n",
        "        if date.split('/')[1] == month:\n",
        "            total_temp += temp\n",
        "            count += 1\n",
        "    return total_temp / count if count > 0 else None\n",
        "\n",
        "def avgtempbetmonth(data, start_month, end_month):\n",
        "    total_temp = 0\n",
        "    count = 0\n",
        "\n",
        "    for date_str, temperature, _ in data:\n",
        "        _, month, _ = date_str.split('/')\n",
        "        if start_month <= month <= end_month:\n",
        "            total_temp += temperature\n",
        "            count += 1\n",
        "\n",
        "    return total_temp / count if count > 0 else None\n",
        "\n",
        "def lowestspeed(data, start_month, end_month):\n",
        "    min_temp = float('inf')\n",
        "    wind_speed = None\n",
        "\n",
        "    for date_str, temperature, w_speed in data:\n",
        "        _, month, _ = date_str.split('/')\n",
        "        if start_month <= month <= end_month:\n",
        "            if temperature < min_temp:\n",
        "                min_temp = temperature\n",
        "                wind_speed = w_speed\n",
        "\n",
        "    return wind_speed if wind_speed is not None else None\n",
        "\n",
        "def main():\n",
        "    file_path = file_path = \"C:\\\\Users\\\\amogh\\\\Desktop\\\\fundamentalsofds\\\\fundamentalsofds\\\\Q5\\\\temp.csv\"\n",
        "\n",
        "    data = readcsv(file_path)\n",
        "\n",
        "    print(f\"Average temperature for March: {avgofmonth(data, '03'):.2f}\")\n",
        "\n",
        "    avg_temp = avgtempbetmonth(data, '09', '11')\n",
        "    print(f\"Average Temperature from September to November: {avg_temp:.2f}\")\n",
        "\n",
        "    wind_speed = lowestspeed(data, '09', '11')\n",
        "    print(f\"Wind Speed when Temperature is Lowest from September to November: {wind_speed}\")\n",
        "\n",
        "if __name__ == \"__main__\":\n",
        "    main()\n"
      ],
      "metadata": {
        "colab": {
          "base_uri": "https://localhost:8080/"
        },
        "id": "TbMBnbuWWqc1",
        "outputId": "6b450127-4322-4e4f-8c9e-df974820d411"
      },
      "execution_count": null,
      "outputs": [
        {
          "output_type": "stream",
          "name": "stdout",
          "text": [
            "Average temperature for March: 22.77\n",
            "Average Temperature from September to November: 22.92\n",
            "Wind Speed when Temperature is Lowest from September to November: 32\n"
          ]
        }
      ]
    }
  ]
}