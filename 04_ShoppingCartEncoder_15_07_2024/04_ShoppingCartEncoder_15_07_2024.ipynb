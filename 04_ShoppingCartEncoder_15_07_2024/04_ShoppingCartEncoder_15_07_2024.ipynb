{
  "nbformat": 4,
  "nbformat_minor": 0,
  "metadata": {
    "colab": {
      "provenance": [],
      "authorship_tag": "ABX9TyOQT979LXcloWJYGrymMhw3",
      "include_colab_link": true
    },
    "kernelspec": {
      "name": "python3",
      "display_name": "Python 3"
    },
    "language_info": {
      "name": "python"
    }
  },
  "cells": [
    {
      "cell_type": "markdown",
      "metadata": {
        "id": "view-in-github",
        "colab_type": "text"
      },
      "source": [
        "<a href=\"https://colab.research.google.com/github/AMOGH-DS02/FundamentalsOfDataScience_AMOGH-PARWATKAR/blob/main/04_ShoppingCartEncoder_15_07_2024/04_ShoppingCartEncoder_15_07_2024.ipynb\" target=\"_parent\"><img src=\"https://colab.research.google.com/assets/colab-badge.svg\" alt=\"Open In Colab\"/></a>"
      ]
    },
    {
      "cell_type": "code",
      "execution_count": null,
      "metadata": {
        "colab": {
          "base_uri": "https://localhost:8080/"
        },
        "id": "FPfBNl1hKYpA",
        "outputId": "cbb245a1-b192-4c5a-cd45-2e041c1518eb"
      },
      "outputs": [
        {
          "output_type": "stream",
          "name": "stdout",
          "text": [
            "Mounted at /content/drive\n"
          ]
        }
      ],
      "source": [
        "from google.colab import drive\n",
        "\n",
        "# Mount Google Drive\n",
        "drive.mount('/content/drive')"
      ]
    },
    {
      "cell_type": "code",
      "source": [
        "file = '/content/drive/MyDrive/FundamentalsofDataScience/datasets/store.csv'"
      ],
      "metadata": {
        "id": "YgXFh98SKeco"
      },
      "execution_count": null,
      "outputs": []
    },
    {
      "cell_type": "code",
      "source": [
        "def readShoppingCart(cart, read_file):\n",
        "    with open(read_file) as my_file:\n",
        "        for line in my_file:\n",
        "            data = line.strip().split(',')\n",
        "            cart.append(data[0])\n",
        "    print('\\nStep 1:')\n",
        "    for item in cart:\n",
        "        print(item)\n",
        "\n",
        "\n",
        "def storeInCharMatrix(cart):\n",
        "    print(f'\\nStep 2: {cart}\\n')\n",
        "\n",
        "\n",
        "def convertToRTL(cart):\n",
        "    max_length = max(len(item) for item in cart) if cart else 0\n",
        "    formatted_items = []\n",
        "    for item in cart:\n",
        "        formatted_items.append(item.rjust(max_length))\n",
        "    nested = [char.split(', ') for char in formatted_items]\n",
        "    print(f\"Step 3: {formatted_items}\")\n",
        "    return nested\n",
        "\n",
        "\n",
        "def encryptToASCII(nested):\n",
        "    ascii_values = [list(map(ord, i[0])) for i in nested]\n",
        "    print(f'\\nStep 4: {ascii_values}\\n')\n",
        "    return ascii_values\n",
        "\n",
        "\n",
        "def networkStream(ascii):\n",
        "    flatList = sum(ascii, [])\n",
        "    final = ''.join(map(str, flatList))\n",
        "    print(f'Step 5: {final}\\n')\n",
        "    return final\n",
        "\n",
        "\n",
        "def saveToFile(final, output_file):\n",
        "    with open(output_file, 'w') as f:\n",
        "        f.write(final)\n",
        "    print(f'Step 6: Saved final output to {output_file}\\n')\n",
        "\n",
        "\n",
        "def main():\n",
        "    cart = []\n",
        "    csv_file = file\n",
        "    output_file = \"output.txt\"\n",
        "\n",
        "    # Pass cart by reference through each function\n",
        "    readShoppingCart(cart, csv_file)\n",
        "    storeInCharMatrix(cart[:])  # Pass a shallow copy of cart to keep original cart unchanged\n",
        "    nested = convertToRTL(cart[:])  # Pass a shallow copy of cart to keep original cart unchanged\n",
        "    ascii_values = encryptToASCII(nested)  # Pass nested list by reference\n",
        "    final = networkStream(ascii_values)  # Pass ascii_values list by reference\n",
        "    saveToFile(final, output_file)\n",
        "\n",
        "\n",
        "if __name__ == '__main__':\n",
        "    main()\n"
      ],
      "metadata": {
        "colab": {
          "base_uri": "https://localhost:8080/"
        },
        "id": "pL3nzJAIKzCp",
        "outputId": "55e80ec1-340d-40de-a550-132eda8c34c1"
      },
      "execution_count": null,
      "outputs": [
        {
          "output_type": "stream",
          "name": "stdout",
          "text": [
            "\n",
            "Step 1:\n",
            "MOBILE\n",
            "PEN\n",
            "BOOK\n",
            "\n",
            "Step 2: ['MOBILE', 'PEN', 'BOOK']\n",
            "\n",
            "Step 3: ['MOBILE', '   PEN', '  BOOK']\n",
            "\n",
            "Step 4: [[77, 79, 66, 73, 76, 69], [32, 32, 32, 80, 69, 78], [32, 32, 66, 79, 79, 75]]\n",
            "\n",
            "Step 5: 777966737669323232806978323266797975\n",
            "\n",
            "Step 6: Saved final output to output.txt\n",
            "\n"
          ]
        }
      ]
    }
  ]
}