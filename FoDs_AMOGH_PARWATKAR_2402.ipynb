{
  "nbformat": 4,
  "nbformat_minor": 0,
  "metadata": {
    "colab": {
      "provenance": [],
      "authorship_tag": "ABX9TyMwnVS84A/OXtE7wwOnEKtX",
      "include_colab_link": true
    },
    "kernelspec": {
      "name": "python3",
      "display_name": "Python 3"
    },
    "language_info": {
      "name": "python"
    }
  },
  "cells": [
    {
      "cell_type": "markdown",
      "metadata": {
        "id": "view-in-github",
        "colab_type": "text"
      },
      "source": [
        "<a href=\"https://colab.research.google.com/github/AMOGH-DS02/FundamentalsOfDataScience_AMOGH-PARWATKAR/blob/main/FoDs_AMOGH_PARWATKAR_2402.ipynb\" target=\"_parent\"><img src=\"https://colab.research.google.com/assets/colab-badge.svg\" alt=\"Open In Colab\"/></a>"
      ]
    },
    {
      "cell_type": "code",
      "execution_count": null,
      "metadata": {
        "colab": {
          "base_uri": "https://localhost:8080/"
        },
        "id": "F9fY8aTvnRSQ",
        "outputId": "889d7d15-8814-4e0e-8202-2440a8d4c2db"
      },
      "outputs": [
        {
          "output_type": "stream",
          "name": "stdout",
          "text": [
            "Mounted at /content/drive\n"
          ]
        }
      ],
      "source": [
        "from google.colab import drive\n",
        "\n",
        "# Mount Google Drive\n",
        "drive.mount('/content/drive')"
      ]
    },
    {
      "cell_type": "markdown",
      "source": [
        "### **ASSIGNMENT 2**"
      ],
      "metadata": {
        "id": "ibBVH0n5uGtp"
      }
    },
    {
      "cell_type": "code",
      "source": [
        "file = '/content/drive/MyDrive/FundamentalsofDataScience/datasets/DATA.csv'"
      ],
      "metadata": {
        "id": "ObCtOBxAt-EV"
      },
      "execution_count": null,
      "outputs": []
    },
    {
      "cell_type": "code",
      "source": [
        "import matplotlib.pyplot as plt\n",
        "import csv\n",
        "keys = []\n",
        "values = []\n",
        "\n",
        "try:\n",
        "    with open(file, \"r\") as file:\n",
        "        reader = csv.reader(file)\n",
        "        header = next(reader)\n",
        "        for row in reader:\n",
        "            if len(row) < 2:\n",
        "                continue\n",
        "            keys.append(row[0])\n",
        "            values.append(float(row[1]))\n",
        "except FileNotFoundError:\n",
        "    print(\"Error: The file DATA.csv was not found.\")\n",
        "    exit()\n",
        "except Exception as e:\n",
        "    print(f\"An error occurred: {e}\")\n",
        "    exit()\n",
        "\n",
        "plt.bar(keys, values, color='green', width=0.5)\n",
        "plt.xlabel(\"Subject\")\n",
        "plt.ylabel(\"Marks Obtained\")\n",
        "plt.title(\"Subject vs Marks Graph\")\n",
        "plt.xticks(rotation=45, ha='right')\n",
        "plt.tight_layout()\n",
        "\n",
        "plt.show()\n"
      ],
      "metadata": {
        "colab": {
          "base_uri": "https://localhost:8080/",
          "height": 487
        },
        "id": "YYXAylY6tmDC",
        "outputId": "3c16f8b7-8163-4583-b724-0224efa6affe"
      },
      "execution_count": null,
      "outputs": [
        {
          "output_type": "display_data",
          "data": {
            "text/plain": [
              "<Figure size 640x480 with 1 Axes>"
            ],
            "image/png": "[encoded data removed]"
          },
          "metadata": {}
        }
      ]
    },
    {
      "cell_type": "markdown",
      "source": [
        "# **ASSIGNMENT 3**"
      ],
      "metadata": {
        "id": "GXx4GBfMuYDk"
      }
    },
    {
      "cell_type": "code",
      "source": [],
      "metadata": {
        "id": "3nw5gV1OuCkZ"
      },
      "execution_count": null,
      "outputs": []
    },
    {
      "cell_type": "code",
      "source": [
        "file = '/content/drive/MyDrive/FundamentalsofDataScience/datasets/q3.csv'"
      ],
      "metadata": {
        "id": "YyNHK37EuCm6"
      },
      "execution_count": null,
      "outputs": []
    },
    {
      "cell_type": "code",
      "source": [
        "import pandas as pd\n",
        "\n",
        "df = pd.read_csv(file)\n",
        "\n",
        "program_names = {\n",
        "    'MCA': [],\n",
        "    'DSC': [],\n",
        "    'AI': [],\n",
        "}\n",
        "\n",
        "for _, row in df.iterrows():\n",
        "    program = row['Program']\n",
        "    name = row['Name']\n",
        "\n",
        "    if program in program_names:\n",
        "        program_names[program].append(name)\n",
        "\n",
        "for program, names in program_names.items():\n",
        "    with open(f\"{program}.txt\", \"w\") as file:\n",
        "        for name in names:\n",
        "            file.write(name + \"\\n\")\n"
      ],
      "metadata": {
        "id": "eaEFHLCwuCpk"
      },
      "execution_count": null,
      "outputs": []
    },
    {
      "cell_type": "markdown",
      "source": [
        "# **ASSIGNMENT 4**"
      ],
      "metadata": {
        "id": "w9UdajM_x_Rq"
      }
    },
    {
      "cell_type": "code",
      "source": [
        "file = '/content/drive/MyDrive/FundamentalsofDataScience/datasets/store.csv'"
      ],
      "metadata": {
        "id": "nfGxHFlGuCsD"
      },
      "execution_count": null,
      "outputs": []
    },
    {
      "cell_type": "code",
      "source": [
        "def readShoppingCart(cart, read_file):\n",
        "    with open(read_file) as my_file:\n",
        "        for line in my_file:\n",
        "            data = line.strip().split(',')\n",
        "            cart.append(data[0])\n",
        "    print('\\nStep 1:')\n",
        "    for item in cart:\n",
        "        print(item)\n",
        "\n",
        "\n",
        "def storeInCharMatrix(cart):\n",
        "    print(f'\\nStep 2: {cart}\\n')\n",
        "\n",
        "\n",
        "def convertToRTL(cart):\n",
        "    max_length = max(len(item) for item in cart) if cart else 0\n",
        "    formatted_items = []\n",
        "    for item in cart:\n",
        "        formatted_items.append(item.rjust(max_length))\n",
        "    nested = [char.split(', ') for char in formatted_items]\n",
        "    print(f\"Step 3: {formatted_items}\")\n",
        "    return nested\n",
        "\n",
        "\n",
        "def encryptToASCII(nested):\n",
        "    ascii_values = [list(map(ord, i[0])) for i in nested]\n",
        "    print(f'\\nStep 4: {ascii_values}\\n')\n",
        "    return ascii_values\n",
        "\n",
        "\n",
        "def networkStream(ascii):\n",
        "    flatList = sum(ascii, [])\n",
        "    final = ''.join(map(str, flatList))\n",
        "    print(f'Step 5: {final}\\n')\n",
        "    return final\n",
        "\n",
        "\n",
        "def saveToFile(final, output_file):\n",
        "    with open(output_file, 'w') as f:\n",
        "        f.write(final)\n",
        "    print(f'Step 6: Saved final output to {output_file}\\n')\n",
        "\n",
        "\n",
        "def main():\n",
        "    cart = []\n",
        "    csv_file = file\n",
        "    output_file = \"output.txt\"\n",
        "\n",
        "    # Pass cart by reference through each function\n",
        "    readShoppingCart(cart, csv_file)\n",
        "    storeInCharMatrix(cart[:])  # Pass a shallow copy of cart to keep original cart unchanged\n",
        "    nested = convertToRTL(cart[:])  # Pass a shallow copy of cart to keep original cart unchanged\n",
        "    ascii_values = encryptToASCII(nested)  # Pass nested list by reference\n",
        "    final = networkStream(ascii_values)  # Pass ascii_values list by reference\n",
        "    saveToFile(final, output_file)\n",
        "\n",
        "\n",
        "if __name__ == '__main__':\n",
        "    main()\n"
      ],
      "metadata": {
        "colab": {
          "base_uri": "https://localhost:8080/"
        },
        "id": "uiGn6c9GuCuc",
        "outputId": "0e020e43-a882-495e-d07c-34ddc7eb71f5"
      },
      "execution_count": null,
      "outputs": [
        {
          "output_type": "stream",
          "name": "stdout",
          "text": [
            "\n",
            "Step 1:\n",
            "MOBILE\n",
            "PEN\n",
            "BOOK\n",
            "\n",
            "Step 2: ['MOBILE', 'PEN', 'BOOK']\n",
            "\n",
            "Step 3: ['MOBILE', '   PEN', '  BOOK']\n",
            "\n",
            "Step 4: [[77, 79, 66, 73, 76, 69], [32, 32, 32, 80, 69, 78], [32, 32, 66, 79, 79, 75]]\n",
            "\n",
            "Step 5: 777966737669323232806978323266797975\n",
            "\n",
            "Step 6: Saved final output to output.txt\n",
            "\n"
          ]
        }
      ]
    },
    {
      "cell_type": "markdown",
      "source": [
        "# **ASSIGNMENT 5**"
      ],
      "metadata": {
        "id": "qBzliItVyTzu"
      }
    },
    {
      "cell_type": "code",
      "source": [
        "file_ = '/content/drive/MyDrive/FundamentalsofDataScience/datasets/temp.csv'"
      ],
      "metadata": {
        "id": "-4WH6wrluCwn"
      },
      "execution_count": null,
      "outputs": []
    },
    {
      "cell_type": "markdown",
      "source": [],
      "metadata": {
        "id": "rjVpBCAWylfG"
      }
    },
    {
      "cell_type": "code",
      "source": [
        "def readcsv(files):\n",
        "    formatted_data = []\n",
        "    with open(file_, 'r') as file:\n",
        "        lines = file.read().strip().split('\\n')\n",
        "    for line in lines[1:]:  # Skip header\n",
        "        if line.strip():\n",
        "            date_str, temp_str, wind_str = line.split(',')\n",
        "            day, month, year = date_str.split('/')\n",
        "            formatted_date = f\"{day}/{month}/{year}\"\n",
        "            try:\n",
        "                temperature = float(temp_str)\n",
        "                wind_speed = int(wind_str)\n",
        "                formatted_data.append((formatted_date, temperature, wind_speed))\n",
        "            except ValueError:\n",
        "                print(f\"Warning: Skipping malformed line: {line}\")\n",
        "\n",
        "    return formatted_data\n",
        "\n",
        "def avgofmonth(data, month):\n",
        "    total_temp = 0\n",
        "    count = 0\n",
        "    for date, temp, windspeed in data:\n",
        "        if date.split('/')[1] == month:\n",
        "            total_temp += temp\n",
        "            count += 1\n",
        "    return total_temp / count if count > 0 else None\n",
        "\n",
        "def avgtempbetmonth(data, start_month, end_month):\n",
        "    total_temp = 0\n",
        "    count = 0\n",
        "\n",
        "    for date_str, temperature, _ in data:\n",
        "        _, month, _ = date_str.split('/')\n",
        "        if start_month <= month <= end_month:\n",
        "            total_temp += temperature\n",
        "            count += 1\n",
        "\n",
        "    return total_temp / count if count > 0 else None\n",
        "\n",
        "def lowestspeed(data, start_month, end_month):\n",
        "    min_temp = float('inf')\n",
        "    wind_speed = None\n",
        "\n",
        "    for date_str, temperature, w_speed in data:\n",
        "        _, month, _ = date_str.split('/')\n",
        "        if start_month <= month <= end_month:\n",
        "            if temperature < min_temp:\n",
        "                min_temp = temperature\n",
        "                wind_speed = w_speed\n",
        "\n",
        "    return wind_speed if wind_speed is not None else None\n",
        "\n",
        "def main():\n",
        "    file_path = file_path = \"C:\\\\Users\\\\amogh\\\\Desktop\\\\fundamentalsofds\\\\fundamentalsofds\\\\Q5\\\\temp.csv\"\n",
        "\n",
        "    data = readcsv(file_path)\n",
        "\n",
        "    print(f\"Average temperature for March: {avgofmonth(data, '03'):.2f}\")\n",
        "\n",
        "    avg_temp = avgtempbetmonth(data, '09', '11')\n",
        "    print(f\"Average Temperature from September to November: {avg_temp:.2f}\")\n",
        "\n",
        "    wind_speed = lowestspeed(data, '09', '11')\n",
        "    print(f\"Wind Speed when Temperature is Lowest from September to November: {wind_speed}\")\n",
        "\n",
        "if __name__ == \"__main__\":\n",
        "    main()\n"
      ],
      "metadata": {
        "colab": {
          "base_uri": "https://localhost:8080/"
        },
        "id": "TnXEBA72uCzA",
        "outputId": "fff8bbfe-1dfe-4769-e241-b87b8c0401f0"
      },
      "execution_count": null,
      "outputs": [
        {
          "output_type": "stream",
          "name": "stdout",
          "text": [
            "Average temperature for March: 22.77\n",
            "Average Temperature from September to November: 22.92\n",
            "Wind Speed when Temperature is Lowest from September to November: 32\n"
          ]
        }
      ]
    },
    {
      "cell_type": "markdown",
      "source": [
        "# **ASSIGNMENT 6**"
      ],
      "metadata": {
        "id": "a53WCuIgysD-"
      }
    },
    {
      "cell_type": "code",
      "source": [
        "import mysql.connector\n",
        "from mysql.connector import Error\n",
        "from pymongo import MongoClient\n",
        "from pymongo.errors import ConnectionError\n",
        "\n",
        "def fetch_data_from_mysql():\n",
        "    connection = None\n",
        "    cursor = None\n",
        "    try:\n",
        "        # Establishing the MySQL connection\n",
        "        connection = mysql.connector.connect(\n",
        "            host='localhost',\n",
        "            user='root',\n",
        "            password='root',\n",
        "            database='insta'\n",
        "        )\n",
        "\n",
        "        if connection.is_connected():\n",
        "            print(\"Connected to MySQL database\")\n",
        "\n",
        "            # Creating a cursor object\n",
        "            cursor = connection.cursor()\n",
        "\n",
        "            # SQL query to fetch data\n",
        "            query = \"SELECT * FROM userdata\"\n",
        "            cursor.execute(query)\n",
        "\n",
        "            # Fetching all rows\n",
        "            rows = cursor.fetchall()\n",
        "\n",
        "            # Column names for MongoDB\n",
        "            column_names = [desc[0] for desc in cursor.description]\n",
        "\n",
        "            # Prepare data for MongoDB\n",
        "            data = [dict(zip(column_names, row)) for row in rows]\n",
        "\n",
        "            return data\n",
        "\n",
        "    except Error as e:\n",
        "        print(f\"Error while connecting to MySQL: {e}\")\n",
        "        return None\n",
        "\n",
        "    finally:\n",
        "        if cursor:\n",
        "            cursor.close()\n",
        "        if connection and connection.is_connected():\n",
        "            connection.close()\n",
        "        print(\"MySQL connection is closed\")\n",
        "\n",
        "def insert_data_into_mongodb(data):\n",
        "    try:\n",
        "        # Establishing the MongoDB connection\n",
        "        client = MongoClient('127.0.0.1', 27017)\n",
        "        db = client['instaa']\n",
        "        collection = db['userdaata']\n",
        "\n",
        "        # Inserting data into MongoDB\n",
        "        if data:\n",
        "            result = collection.insert_many(data)\n",
        "            print(f\"Data inserted into MongoDB with ids: {result.inserted_ids}\")\n",
        "        else:\n",
        "            print(\"No data to insert into MongoDB\")\n",
        "\n",
        "    except ConnectionError as e:\n",
        "        print(f\"Error while connecting to MongoDB: {e}\")\n",
        "\n",
        "    except Exception as e:\n",
        "        print(f\"Error during MongoDB operation: {e}\")\n",
        "\n",
        "    finally:\n",
        "        client.close()\n",
        "        print(\"MongoDB connection is closed\")\n",
        "\n",
        "if __name__ == \"__main__\":\n",
        "    data = fetch_data_from_mysql()\n",
        "    insert_data_into_mongodb(data)\n"
      ],
      "metadata": {
        "id": "iesgcobpuC3q"
      },
      "execution_count": null,
      "outputs": []
    },
    {
      "cell_type": "markdown",
      "source": [
        "# **ASSIGNMENT 7**"
      ],
      "metadata": {
        "id": "GBtKp8PAy3kh"
      }
    },
    {
      "cell_type": "code",
      "source": [
        "file = '/content/drive/MyDrive/FundamentalsofDataScience/datasets/app.json'"
      ],
      "metadata": {
        "id": "gS7lmMycuC6K"
      },
      "execution_count": null,
      "outputs": []
    },
    {
      "cell_type": "code",
      "source": [
        "!pip install pymongo  # Install the pymongo library\n",
        "\n",
        "import json\n",
        "from pymongo import MongoClient  # type: ignore\n",
        "\n",
        "# Load configuration data from app.json\n",
        "with open('app.json', 'r') as file:\n",
        "    config = json.load(file)\n",
        "\n",
        "# MongoDB connection\n",
        "client = MongoClient('mongodb://localhost:27017/')\n",
        "db = client['FUNDAS']\n",
        "products = db['Products']\n",
        "\n",
        "# Create a mapping from city to state\n",
        "state_city_mapping = {\n",
        "    \"goa\": [\"panaji\", \"quepem\"],  # Ensure these match the cities in app.json\n",
        "    \"karnataka\": [\"belgaum\", \"hubli\", \"bengaluru\"],\n",
        "    \"maharashtra\": [\"mumbai\", \"nagpur\", \"lonavala\"]\n",
        "}\n",
        "\n",
        "# Create a reverse mapping from city to state\n",
        "city_to_state = {city.lower(): state for state, cities in state_city_mapping.items() for city in cities}\n",
        "\n",
        "def get_total_price(product_name: str, city: str) -> dict:\n",
        "    print(f\"Searching for product: {product_name}\")\n",
        "    product = products.find_one({\"product_name\": {\"$regex\": f\"^{product_name}$\", \"$options\": \"i\"}})\n",
        "    if not product:\n",
        "        return {\"error\": \"Product not found.\"}\n",
        "\n",
        "    print(f\"Found product: {product}\")\n",
        "    product_price = product.get('price', 0)\n",
        "    print(f\"Product price: {product_price}\")\n",
        "\n",
        "    # Determine the state from the product's city list\n",
        "    product_cities = [c.lower() for c in product.get('city', [])]\n",
        "    product_city_state = None\n",
        "    for product_city in product_cities:\n",
        "        if product_city in city_to_state:\n",
        "            product_city_state = city_to_state[product_city]\n",
        "            break\n",
        "\n",
        "    if not product_city_state:\n",
        "        return {\"error\": \"City not found.\"}\n",
        "\n",
        "    print(f\"Product city state: {product_city_state}\")\n",
        "\n",
        "    # Calculate the shipping cost\n",
        "    shipping_cost = config[\"shipping_rates\"].get(product_city_state, 0)\n",
        "    total_price = product_price + shipping_cost\n",
        "\n",
        "    return {\n",
        "        \"product_name\": product_name,\n",
        "        \"base_price\": product_price,\n",
        "        \"shipping_cost\": shipping_cost,\n",
        "        \"total_price\": total_price,\n",
        "        \"application_name\": config[\"application_name\"]\n",
        "    }\n",
        "\n",
        "# Example usage\n",
        "product_name = \"Laptop\"\n",
        "city = \"panjim\"\n",
        "result = get_total_price(product_name, city)\n",
        "print(result)"
      ],
      "metadata": {
        "id": "k1pvLiEsuC8V"
      },
      "execution_count": null,
      "outputs": []
    },
    {
      "cell_type": "markdown",
      "source": [
        "# **ASSIGNMENT 8**"
      ],
      "metadata": {
        "id": "ymnqiSyQzI4Y"
      }
    },
    {
      "cell_type": "code",
      "source": [
        "import numpy as np\n",
        "\n",
        "def generate_matrix(seed, shape, low, high):\n",
        "    np.random.seed(seed)\n",
        "    return np.random.randint(low, high, size=shape)\n",
        "\n",
        "def is_prime(num):\n",
        "    if num <= 1:\n",
        "        return False\n",
        "    if num <= 3:\n",
        "        return True\n",
        "    if num % 2 == 0 or num % 3 == 0:\n",
        "        return False\n",
        "    i = 5\n",
        "    while i * i <= num:\n",
        "        if num % i == 0 or num % (i + 2) == 0:\n",
        "            return False\n",
        "        i += 6\n",
        "    return True\n",
        "\n",
        "def replace_matrix_values(matrix):\n",
        "    new_matrix = np.zeros_like(matrix)\n",
        "\n",
        "    for i in range(matrix.shape[0]):\n",
        "        for j in range(matrix.shape[1]):\n",
        "            for k in range(matrix.shape[2]):\n",
        "                value = matrix[i, j, k]\n",
        "\n",
        "                condition_0 = (i % 2 != 0)  # Index 0 is odd\n",
        "                condition_1 = is_prime(k)  # Index 1 is prime\n",
        "                condition_2 = (j % 2 == 0)  # Index 2 is even\n",
        "\n",
        "                if condition_0 and condition_1 and condition_2:\n",
        "                    new_matrix[i, j, k] = 1\n",
        "                else:\n",
        "                    new_matrix[i, j, k] = 0\n",
        "\n",
        "    return new_matrix\n",
        "\n",
        "def find_longest_segment(matrix):\n",
        "    longest_length = 0\n",
        "    longest_coords = None\n",
        "    direction = None\n",
        "\n",
        "    # Check horizontal segments\n",
        "    for i in range(matrix.shape[0]):\n",
        "        for j in range(matrix.shape[1]):\n",
        "            length = 0\n",
        "            start_col = 0\n",
        "            for k in range(matrix.shape[2]):\n",
        "                if matrix[i, j, k] == 1:\n",
        "                    if length == 0:\n",
        "                        start_col = k\n",
        "                    length += 1\n",
        "                else:\n",
        "                    if length > longest_length:\n",
        "                        longest_length = length\n",
        "                        longest_coords = (i, j, start_col)\n",
        "                        direction = \"horizontal\"\n",
        "                    length = 0\n",
        "            if length > longest_length:\n",
        "                longest_length = length\n",
        "                longest_coords = (i, j, start_col)\n",
        "                direction = \"horizontal\"\n",
        "\n",
        "    # Check vertical segments\n",
        "    for i in range(matrix.shape[0]):\n",
        "        for k in range(matrix.shape[2]):\n",
        "            length = 0\n",
        "            start_row = 0\n",
        "            for j in range(matrix.shape[1]):\n",
        "                if matrix[i, j, k] == 1:\n",
        "                    if length == 0:\n",
        "                        start_row = j\n",
        "                    length += 1\n",
        "                else:\n",
        "                    if length > longest_length:\n",
        "                        longest_length = length\n",
        "                        longest_coords = (i, start_row, k)\n",
        "                        direction = \"vertical\"\n",
        "                    length = 0\n",
        "            if length > longest_length:\n",
        "                longest_length = length\n",
        "                longest_coords = (i, start_row, k)\n",
        "                direction = \"vertical\"\n",
        "\n",
        "    return longest_length, longest_coords, direction\n",
        "\n",
        "def main():\n",
        "    # Define parameters\n",
        "    seed = 49\n",
        "    shape = (7, 7, 7)\n",
        "    low = 0\n",
        "    high = 20\n",
        "\n",
        "    # Generate the matrix\n",
        "    matrix = generate_matrix(seed, shape, low, high)\n",
        "    print(\"Original matrix:\")\n",
        "    print(matrix)\n",
        "\n",
        "    # Replace values in the matrix\n",
        "    new_matrix = replace_matrix_values(matrix)\n",
        "    print(\"\\nModified matrix:\")\n",
        "    print(new_matrix)\n",
        "\n",
        "    # Find the longest segment\n",
        "    longest_length, longest_coords, direction = find_longest_segment(new_matrix)\n",
        "\n",
        "    print(f\"\\nLongest segment length: {longest_length}\")\n",
        "    print(f\"Coordinates of the start of the longest segment: {longest_coords}\")\n",
        "    print(f\"Direction of the longest segment: {direction}\")\n",
        "\n",
        "if __name__ == \"__main__\":\n",
        "    main()\n"
      ],
      "metadata": {
        "colab": {
          "base_uri": "https://localhost:8080/"
        },
        "id": "42Cu-9iauC_t",
        "outputId": "5f43c16f-42de-4f94-bb51-fd94910d8f5e"
      },
      "execution_count": null,
      "outputs": [
        {
          "output_type": "stream",
          "name": "stdout",
          "text": [
            "Original matrix:\n",
            "[[[10 13  8 18 12  5  5]\n",
            "  [17 18  4 12  0 18  3]\n",
            "  [ 6  1  6  4 15 15  8]\n",
            "  [ 3  8  9  4 12  4  5]\n",
            "  [ 7 13  1 13  6 11 13]\n",
            "  [ 5 10  2  3  9 16  2]\n",
            "  [ 0  8  5  5  3  2  7]]\n",
            "\n",
            " [[18  3  2  5  7 17 14]\n",
            "  [ 4  6  5  7  2 10 10]\n",
            "  [12 15 10 15 17  3 11]\n",
            "  [19  5 15 13  9  8  8]\n",
            "  [11 15 11  7 16  9  6]\n",
            "  [17  0  2 18  0  9  3]\n",
            "  [ 2  7 14 15 16 13  2]]\n",
            "\n",
            " [[ 1 10 16 11  3  3  5]\n",
            "  [ 0  1 18  9 10 18 16]\n",
            "  [ 9  3  1 12 19 17 17]\n",
            "  [ 0 12  0  0  0  2 17]\n",
            "  [12  7 10 19 14 15 19]\n",
            "  [ 0 10  0  1 15  8  8]\n",
            "  [18 11  0 18 19  4 12]]\n",
            "\n",
            " [[15 18  4  2 14  6  0]\n",
            "  [ 4  8 11 17 11 16 16]\n",
            "  [18  2  0 10  2  4 10]\n",
            "  [ 2 12 10 16  1 13 10]\n",
            "  [ 6  7  1  0  2 19 10]\n",
            "  [19 13  0 12  1 19  0]\n",
            "  [ 9  6 15 16 14  2  6]]\n",
            "\n",
            " [[11 13 13 12 18  5 18]\n",
            "  [19  5 10  2  7  6 13]\n",
            "  [ 5 19  7 10  4  7 14]\n",
            "  [11 17 16 19  3  9 13]\n",
            "  [15 16  3  4 10 19  5]\n",
            "  [ 0  3 18 19  4 11 13]\n",
            "  [ 7  6 17 19  1  1  2]]\n",
            "\n",
            " [[15  4  7  2 12 18  7]\n",
            "  [12  8  5  5 18  3  1]\n",
            "  [ 0 11  6 19  4  6  6]\n",
            "  [11  2 12 15 16  6 10]\n",
            "  [ 6 11  7 10 13  8 15]\n",
            "  [ 1  7 17  4 18  4  7]\n",
            "  [19 14  3  4  2 18 11]]\n",
            "\n",
            " [[18  6 13 19 12  1 11]\n",
            "  [15 19  9  2  1  9 18]\n",
            "  [12 16  7 14 19 13 14]\n",
            "  [12  9  0  2 12  5  6]\n",
            "  [ 4 16  1 10 10 16 12]\n",
            "  [ 3 12 14  9  8 10 16]\n",
            "  [10  2  5  8  5  8 13]]]\n",
            "\n",
            "Modified matrix:\n",
            "[[[0 0 0 0 0 0 0]\n",
            "  [0 0 0 0 0 0 0]\n",
            "  [0 0 0 0 0 0 0]\n",
            "  [0 0 0 0 0 0 0]\n",
            "  [0 0 0 0 0 0 0]\n",
            "  [0 0 0 0 0 0 0]\n",
            "  [0 0 0 0 0 0 0]]\n",
            "\n",
            " [[0 0 1 1 0 1 0]\n",
            "  [0 0 0 0 0 0 0]\n",
            "  [0 0 1 1 0 1 0]\n",
            "  [0 0 0 0 0 0 0]\n",
            "  [0 0 1 1 0 1 0]\n",
            "  [0 0 0 0 0 0 0]\n",
            "  [0 0 1 1 0 1 0]]\n",
            "\n",
            " [[0 0 0 0 0 0 0]\n",
            "  [0 0 0 0 0 0 0]\n",
            "  [0 0 0 0 0 0 0]\n",
            "  [0 0 0 0 0 0 0]\n",
            "  [0 0 0 0 0 0 0]\n",
            "  [0 0 0 0 0 0 0]\n",
            "  [0 0 0 0 0 0 0]]\n",
            "\n",
            " [[0 0 1 1 0 1 0]\n",
            "  [0 0 0 0 0 0 0]\n",
            "  [0 0 1 1 0 1 0]\n",
            "  [0 0 0 0 0 0 0]\n",
            "  [0 0 1 1 0 1 0]\n",
            "  [0 0 0 0 0 0 0]\n",
            "  [0 0 1 1 0 1 0]]\n",
            "\n",
            " [[0 0 0 0 0 0 0]\n",
            "  [0 0 0 0 0 0 0]\n",
            "  [0 0 0 0 0 0 0]\n",
            "  [0 0 0 0 0 0 0]\n",
            "  [0 0 0 0 0 0 0]\n",
            "  [0 0 0 0 0 0 0]\n",
            "  [0 0 0 0 0 0 0]]\n",
            "\n",
            " [[0 0 1 1 0 1 0]\n",
            "  [0 0 0 0 0 0 0]\n",
            "  [0 0 1 1 0 1 0]\n",
            "  [0 0 0 0 0 0 0]\n",
            "  [0 0 1 1 0 1 0]\n",
            "  [0 0 0 0 0 0 0]\n",
            "  [0 0 1 1 0 1 0]]\n",
            "\n",
            " [[0 0 0 0 0 0 0]\n",
            "  [0 0 0 0 0 0 0]\n",
            "  [0 0 0 0 0 0 0]\n",
            "  [0 0 0 0 0 0 0]\n",
            "  [0 0 0 0 0 0 0]\n",
            "  [0 0 0 0 0 0 0]\n",
            "  [0 0 0 0 0 0 0]]]\n",
            "\n",
            "Longest segment length: 2\n",
            "Coordinates of the start of the longest segment: (1, 0, 2)\n",
            "Direction of the longest segment: horizontal\n"
          ]
        }
      ]
    },
    {
      "cell_type": "markdown",
      "source": [
        "# ASSIGNMENT **9** **bold text**"
      ],
      "metadata": {
        "id": "qyoeckQozS8J"
      }
    },
    {
      "cell_type": "code",
      "source": [
        "file = '/content/drive/MyDrive/FundamentalsofDataScience/datasets/data.txt'"
      ],
      "metadata": {
        "id": "qaapgsVMzRxg"
      },
      "execution_count": null,
      "outputs": []
    },
    {
      "cell_type": "code",
      "source": [
        "import nltk\n",
        "# Download the 'punkt' and 'averaged_perceptron_tagger' resources if not already present\n",
        "nltk.download('punkt')\n",
        "nltk.download('averaged_perceptron_tagger') # This line is crucial for fixing the error\n",
        "from nltk.tokenize import word_tokenize\n",
        "from nltk import pos_tag\n",
        "import matplotlib.pyplot as plt\n",
        "\n",
        "# ... (rest of your code remains the same) ..."
      ],
      "metadata": {
        "colab": {
          "base_uri": "https://localhost:8080/"
        },
        "id": "tgh7rnAL0L64",
        "outputId": "4e6cb4ec-7c2f-4c82-defb-99368baffd88"
      },
      "execution_count": null,
      "outputs": [
        {
          "output_type": "stream",
          "name": "stderr",
          "text": [
            "[nltk_data] Downloading package punkt to /root/nltk_data...\n",
            "[nltk_data]   Package punkt is already up-to-date!\n",
            "[nltk_data] Downloading package averaged_perceptron_tagger to\n",
            "[nltk_data]     /root/nltk_data...\n",
            "[nltk_data]   Unzipping taggers/averaged_perceptron_tagger.zip.\n"
          ]
        }
      ]
    },
    {
      "cell_type": "code",
      "source": [
        "import nltk\n",
        "import nltk\n",
        "nltk.download('punkt')\n",
        "from nltk.tokenize import word_tokenize\n",
        "from nltk import pos_tag\n",
        "import matplotlib.pyplot as plt\n",
        "\n",
        "def read_file(name):\n",
        "    with open(name, 'r', encoding='utf-8') as file:\n",
        "        read = file.read()\n",
        "    return read\n",
        "\n",
        "def tagging(data):\n",
        "    words = word_tokenize(data)\n",
        "    pos_tagged = pos_tag(words)\n",
        "    return pos_tagged\n",
        "\n",
        "def format_paragraph(pos_tagged):\n",
        "    punctuation = {'.', ',', '!', '?', ';', ':', '-', '(', ')', '\"', \"'\", '…'}\n",
        "    formatted_text = []\n",
        "    for word, tag in pos_tagged:\n",
        "        if word not in punctuation:\n",
        "            formatted_text.append(f\"{word}({tag})\")\n",
        "    return ' '.join(formatted_text)\n",
        "\n",
        "def save_to_file(formatted_paragraph, output_file):\n",
        "    print(\"Saving to file...\")\n",
        "    with open(output_file, 'w', encoding='utf-8') as file:\n",
        "        file.write(formatted_paragraph)\n",
        "    print(f\"File saved at: {output_file}\")\n",
        "\n",
        "def plotting(pos_tagged):\n",
        "    major_categories = {\n",
        "        'Nouns': ['NN', 'NNS', 'NNP', 'NNPS'],\n",
        "        'Verbs': ['VB', 'VBD', 'VBG', 'VBN', 'VBP', 'VBZ'],\n",
        "        'Adjectives': ['JJ', 'JJR', 'JJS'],\n",
        "        'Adverbs': ['RB', 'RBR', 'RBS'],\n",
        "        'Pronouns': ['PRP', 'PRP$', 'WP', 'WP$'],\n",
        "        'Prepositions': ['IN'],\n",
        "        'Conjunctions': ['CC'],\n",
        "        'Determiners': ['DT']\n",
        "    }\n",
        "\n",
        "    tag_counts = {category: 0 for category in major_categories}\n",
        "\n",
        "    for word, tag in pos_tagged:\n",
        "        for category, tags in major_categories.items():\n",
        "            if tag in tags:\n",
        "                tag_counts[category] += 1\n",
        "                break\n",
        "\n",
        "    # Create a bar graph\n",
        "    plt.figure(figsize=(12, 7))\n",
        "    plt.bar(tag_counts.keys(), tag_counts.values(), color='skyblue')\n",
        "    plt.title('Frequency of Major Parts of Speech')\n",
        "    plt.xlabel('Major Parts of Speech')\n",
        "    plt.ylabel('Frequency')\n",
        "    plt.xticks(rotation=45)\n",
        "    plt.tight_layout()\n",
        "    plt.show()\n",
        "\n",
        "def main():\n",
        "    # Corrected file paths without extra quotes\n",
        "    name = file\n",
        "    output_file = r'output.txt'\n",
        "\n",
        "    data = read_file(name)\n",
        "    pos_tagged = tagging(data)\n",
        "    formatted_paragraph = format_paragraph(pos_tagged)\n",
        "\n",
        "    # Save the formatted paragraph to output.txt\n",
        "    save_to_file(formatted_paragraph, output_file)\n",
        "\n",
        "    # Plot the frequency of POS categories\n",
        "    plotting(pos_tagged)\n",
        "\n",
        "if __name__ == \"__main__\":\n",
        "    main()\n"
      ],
      "metadata": {
        "colab": {
          "base_uri": "https://localhost:8080/",
          "height": 460
        },
        "id": "K6v5KnJazRz5",
        "outputId": "6c2b946f-2377-40c7-c4df-5215d89aca03"
      },
      "execution_count": null,
      "outputs": [
        {
          "output_type": "stream",
          "name": "stderr",
          "text": [
            "[nltk_data] Downloading package punkt to /root/nltk_data...\n",
            "[nltk_data]   Package punkt is already up-to-date!\n"
          ]
        },
        {
          "output_type": "stream",
          "name": "stdout",
          "text": [
            "Saving to file...\n",
            "File saved at: output.txt\n"
          ]
        },
        {
          "output_type": "display_data",
          "data": {
            "text/plain": [
              "<Figure size 1200x700 with 1 Axes>"
            ],
            "image/png": "[encoded data removed]"
          },
          "metadata": {}
        }
      ]
    },
    {
      "cell_type": "code",
      "source": [],
      "metadata": {
        "id": "znzl20mGzR2L"
      },
      "execution_count": null,
      "outputs": []
    },
    {
      "cell_type": "markdown",
      "source": [],
      "metadata": {
        "id": "wFuob2tBtneS"
      }
    }
  ]
}