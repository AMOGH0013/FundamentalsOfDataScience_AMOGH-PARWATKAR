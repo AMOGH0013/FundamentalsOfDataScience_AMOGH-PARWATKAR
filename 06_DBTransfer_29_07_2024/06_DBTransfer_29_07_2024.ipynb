{
  "nbformat": 4,
  "nbformat_minor": 0,
  "metadata": {
    "colab": {
      "provenance": [],
      "authorship_tag": "ABX9TyMDZ2RwPz0WvZJnGaqhq9RG",
      "include_colab_link": true
    },
    "kernelspec": {
      "name": "python3",
      "display_name": "Python 3"
    },
    "language_info": {
      "name": "python"
    }
  },
  "cells": [
    {
      "cell_type": "markdown",
      "metadata": {
        "id": "view-in-github",
        "colab_type": "text"
      },
      "source": [
        "<a href=\"https://colab.research.google.com/github/AMOGH-DS02/FundamentalsOfDataScience_AMOGH-PARWATKAR/blob/main/06_DBTransfer_29_07_2024/06_DBTransfer_29_07_2024.ipynb\" target=\"_parent\"><img src=\"https://colab.research.google.com/assets/colab-badge.svg\" alt=\"Open In Colab\"/></a>"
      ]
    },
    {
      "cell_type": "code",
      "execution_count": null,
      "metadata": {
        "colab": {
          "base_uri": "https://localhost:8080/"
        },
        "id": "F0456eS6bScH",
        "outputId": "e732a1d3-60ab-4747-9258-25bba729dac3"
      },
      "outputs": [
        {
          "output_type": "stream",
          "name": "stdout",
          "text": [
            "Mounted at /content/drive\n"
          ]
        }
      ],
      "source": [
        "from google.colab import drive\n",
        "\n",
        "# Mount Google Drive\n",
        "drive.mount('/content/drive')"
      ]
    },
    {
      "cell_type": "code",
      "source": [
        "import mysql.connector\n",
        "from mysql.connector import Error\n",
        "from pymongo import MongoClient\n",
        "from pymongo.errors import ConnectionError\n",
        "\n",
        "def fetch_data_from_mysql():\n",
        "    connection = None\n",
        "    cursor = None\n",
        "    try:\n",
        "        # Establishing the MySQL connection\n",
        "        connection = mysql.connector.connect(\n",
        "            host='localhost',\n",
        "            user='root',\n",
        "            password='root',\n",
        "            database='insta'\n",
        "        )\n",
        "\n",
        "        if connection.is_connected():\n",
        "            print(\"Connected to MySQL database\")\n",
        "\n",
        "            # Creating a cursor object\n",
        "            cursor = connection.cursor()\n",
        "\n",
        "            # SQL query to fetch data\n",
        "            query = \"SELECT * FROM userdata\"\n",
        "            cursor.execute(query)\n",
        "\n",
        "            # Fetching all rows\n",
        "            rows = cursor.fetchall()\n",
        "\n",
        "            # Column names for MongoDB\n",
        "            column_names = [desc[0] for desc in cursor.description]\n",
        "\n",
        "            # Prepare data for MongoDB\n",
        "            data = [dict(zip(column_names, row)) for row in rows]\n",
        "\n",
        "            return data\n",
        "\n",
        "    except Error as e:\n",
        "        print(f\"Error while connecting to MySQL: {e}\")\n",
        "        return None\n",
        "\n",
        "    finally:\n",
        "        if cursor:\n",
        "            cursor.close()\n",
        "        if connection and connection.is_connected():\n",
        "            connection.close()\n",
        "        print(\"MySQL connection is closed\")\n",
        "\n",
        "def insert_data_into_mongodb(data):\n",
        "    try:\n",
        "        # Establishing the MongoDB connection\n",
        "        client = MongoClient('127.0.0.1', 27017)\n",
        "        db = client['instaa']\n",
        "        collection = db['userdaata']\n",
        "\n",
        "        # Inserting data into MongoDB\n",
        "        if data:\n",
        "            result = collection.insert_many(data)\n",
        "            print(f\"Data inserted into MongoDB with ids: {result.inserted_ids}\")\n",
        "        else:\n",
        "            print(\"No data to insert into MongoDB\")\n",
        "\n",
        "    except ConnectionError as e:\n",
        "        print(f\"Error while connecting to MongoDB: {e}\")\n",
        "\n",
        "    except Exception as e:\n",
        "        print(f\"Error during MongoDB operation: {e}\")\n",
        "\n",
        "    finally:\n",
        "        client.close()\n",
        "        print(\"MongoDB connection is closed\")\n",
        "\n",
        "if __name__ == \"__main__\":\n",
        "    data = fetch_data_from_mysql()\n",
        "    insert_data_into_mongodb(data)\n"
      ],
      "metadata": {
        "id": "1LRlLmtNcCcz"
      },
      "execution_count": null,
      "outputs": []
    }
  ]
}