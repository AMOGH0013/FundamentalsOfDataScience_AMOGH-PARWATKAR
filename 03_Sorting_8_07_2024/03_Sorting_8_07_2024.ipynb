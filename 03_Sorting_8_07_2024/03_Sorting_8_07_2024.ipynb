{
  "nbformat": 4,
  "nbformat_minor": 0,
  "metadata": {
    "colab": {
      "provenance": [],
      "authorship_tag": "ABX9TyNnfsS7oTfLCYNSCyP0Sk31",
      "include_colab_link": true
    },
    "kernelspec": {
      "name": "python3",
      "display_name": "Python 3"
    },
    "language_info": {
      "name": "python"
    }
  },
  "cells": [
    {
      "cell_type": "markdown",
      "metadata": {
        "id": "view-in-github",
        "colab_type": "text"
      },
      "source": [
        "<a href=\"https://colab.research.google.com/github/AMOGH-DS02/FundamentalsOfDataScience_AMOGH-PARWATKAR/blob/main/03_Sorting_8_07_2024/03_Sorting_8_07_2024.ipynb\" target=\"_parent\"><img src=\"https://colab.research.google.com/assets/colab-badge.svg\" alt=\"Open In Colab\"/></a>"
      ]
    },
    {
      "cell_type": "code",
      "execution_count": 4,
      "metadata": {
        "colab": {
          "base_uri": "https://localhost:8080/"
        },
        "id": "E3kuCaPzIw87",
        "outputId": "49e48ec1-59d0-479c-b766-dbf0ba1898dc"
      },
      "outputs": [
        {
          "output_type": "stream",
          "name": "stdout",
          "text": [
            "Drive already mounted at /content/drive; to attempt to forcibly remount, call drive.mount(\"/content/drive\", force_remount=True).\n"
          ]
        }
      ],
      "source": [
        "from google.colab import drive\n",
        "\n",
        "# Mount Google Drive\n",
        "drive.mount('/content/drive')"
      ]
    },
    {
      "cell_type": "code",
      "source": [
        "file = '/content/drive/MyDrive/FundamentalsofDataScience/datasets/q3.csv'"
      ],
      "metadata": {
        "id": "MMmwTNtUJaXX"
      },
      "execution_count": 5,
      "outputs": []
    },
    {
      "cell_type": "code",
      "source": [
        "import pandas as pd\n",
        "\n",
        "df = pd.read_csv(file)\n",
        "\n",
        "program_names = {\n",
        "    'MCA': [],\n",
        "    'DSC': [],\n",
        "    'AI': [],\n",
        "}\n",
        "\n",
        "for _, row in df.iterrows():\n",
        "    program = row['Program']\n",
        "    name = row['Name']\n",
        "\n",
        "    if program in program_names:\n",
        "        program_names[program].append(name)\n",
        "\n",
        "for program, names in program_names.items():\n",
        "    with open(f\"{program}.txt\", \"w\") as file:\n",
        "        for name in names:\n",
        "            file.write(name + \"\\n\")\n"
      ],
      "metadata": {
        "id": "jxWi1nkbJYrF"
      },
      "execution_count": 6,
      "outputs": []
    }
  ]
}