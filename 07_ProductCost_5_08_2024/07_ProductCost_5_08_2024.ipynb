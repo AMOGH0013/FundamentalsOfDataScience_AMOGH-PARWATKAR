{
  "nbformat": 4,
  "nbformat_minor": 0,
  "metadata": {
    "colab": {
      "provenance": [],
      "authorship_tag": "ABX9TyNwPo4eq6m7xxL31jcBz0mA",
      "include_colab_link": true
    },
    "kernelspec": {
      "name": "python3",
      "display_name": "Python 3"
    },
    "language_info": {
      "name": "python"
    }
  },
  "cells": [
    {
      "cell_type": "markdown",
      "metadata": {
        "id": "view-in-github",
        "colab_type": "text"
      },
      "source": [
        "<a href=\"https://colab.research.google.com/github/AMOGH-DS02/FundamentalsOfDataScience_AMOGH-PARWATKAR/blob/main/07_ProductCost_5_08_2024/07_ProductCost_5_08_2024.ipynb\" target=\"_parent\"><img src=\"https://colab.research.google.com/assets/colab-badge.svg\" alt=\"Open In Colab\"/></a>"
      ]
    },
    {
      "cell_type": "code",
      "execution_count": null,
      "metadata": {
        "colab": {
          "base_uri": "https://localhost:8080/"
        },
        "id": "JmlvWBrrcw6j",
        "outputId": "88c8671a-0251-4d6c-a203-5406805db9bf"
      },
      "outputs": [
        {
          "output_type": "stream",
          "name": "stdout",
          "text": [
            "Mounted at /content/drive\n"
          ]
        }
      ],
      "source": [
        "from google.colab import drive\n",
        "\n",
        "# Mount Google Drive\n",
        "drive.mount('/content/drive')"
      ]
    },
    {
      "cell_type": "code",
      "source": [
        "file = '/content/drive/MyDrive/FundamentalsofDataScience/datasets/app.json'"
      ],
      "metadata": {
        "id": "-Sd_tYbidW8v"
      },
      "execution_count": null,
      "outputs": []
    },
    {
      "cell_type": "code",
      "source": [
        "import json\n",
        "from pymongo import MongoClient  # type: ignore\n",
        "\n",
        "# Load configuration data from app.json\n",
        "with open('app.json', 'r') as file:\n",
        "    config = json.load(file)\n",
        "\n",
        "# MongoDB connection\n",
        "client = MongoClient('mongodb://localhost:27017/')\n",
        "db = client['FUNDAS']\n",
        "products = db['Products']\n",
        "\n",
        "# Create a mapping from city to state\n",
        "state_city_mapping = {\n",
        "    \"goa\": [\"panaji\", \"quepem\"],  # Ensure these match the cities in app.json\n",
        "    \"karnataka\": [\"belgaum\", \"hubli\", \"bengaluru\"],\n",
        "    \"maharashtra\": [\"mumbai\", \"nagpur\", \"lonavala\"]\n",
        "}\n",
        "\n",
        "# Create a reverse mapping from city to state\n",
        "city_to_state = {city.lower(): state for state, cities in state_city_mapping.items() for city in cities}\n",
        "\n",
        "def get_total_price(product_name: str, city: str) -> dict:\n",
        "    print(f\"Searching for product: {product_name}\")\n",
        "    product = products.find_one({\"product_name\": {\"$regex\": f\"^{product_name}$\", \"$options\": \"i\"}})\n",
        "    if not product:\n",
        "        return {\"error\": \"Product not found.\"}\n",
        "\n",
        "    print(f\"Found product: {product}\")\n",
        "    product_price = product.get('price', 0)\n",
        "    print(f\"Product price: {product_price}\")\n",
        "\n",
        "    # Determine the state from the product's city list\n",
        "    product_cities = [c.lower() for c in product.get('city', [])]\n",
        "    product_city_state = None\n",
        "    for product_city in product_cities:\n",
        "        if product_city in city_to_state:\n",
        "            product_city_state = city_to_state[product_city]\n",
        "            break\n",
        "\n",
        "    if not product_city_state:\n",
        "        return {\"error\": \"City not found.\"}\n",
        "\n",
        "    print(f\"Product city state: {product_city_state}\")\n",
        "\n",
        "    # Calculate the shipping cost\n",
        "    shipping_cost = config[\"shipping_rates\"].get(product_city_state, 0)\n",
        "    total_price = product_price + shipping_cost\n",
        "\n",
        "    return {\n",
        "        \"product_name\": product_name,\n",
        "        \"base_price\": product_price,\n",
        "        \"shipping_cost\": shipping_cost,\n",
        "        \"total_price\": total_price,\n",
        "        \"application_name\": config[\"application_name\"]\n",
        "    }\n",
        "\n",
        "# Example usage\n",
        "product_name = \"Laptop\"\n",
        "city = \"panjim\"\n",
        "result = get_total_price(product_name, city)\n",
        "print(result)\n"
      ],
      "metadata": {
        "id": "khORAu9xemE1"
      },
      "execution_count": null,
      "outputs": []
    }
  ]
}